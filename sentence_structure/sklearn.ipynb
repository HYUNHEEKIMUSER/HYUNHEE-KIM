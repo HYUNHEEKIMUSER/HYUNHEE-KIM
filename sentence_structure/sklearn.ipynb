{
 "cells": [
  {
   "cell_type": "code",
   "execution_count": 2,
   "metadata": {},
   "outputs": [],
   "source": [
    "from sklearn import svm,metrics\n",
    "from sklearn.model_selection import train_test_split #데이터 전처리 - train, test 분리 random_state=42\n",
    "from sklearn.neighbors import KNeighborsClassifier #분류/ 데이터 학습하기\n",
    "from sklearn.neighbors import KNeighborsRegressor  #회귀 예측\n",
    "from sklearn.metrics import mean_absolute_error\n",
    "from sklearn.linear_model import LinearRegression #선형회귀\n",
    "from sklearn.preprocessing import PolynomialFeatures #끝난 뒤 특성을 추가해서 모델을 적용\n",
    "from sklearn.preprocessing import StandardScaler #표준화작업 (instead of 데이터값 - 평균/ 표준편차) - 전처리 전\n",
    "from sklearn.linear_model import Ridge #릿지회귀\n",
    "from scipy.special import softmax # 행 하나하나 1로 맞춤\n",
    "from sklearn.linear_model import LogisticRegression #로지스틱 - 맞출 확률을 나타내는 것(1에 가깝게)\n",
    "from sklearn.linear_model import SGDClassifier #경사하강법 - 머신러닝을 훈련하는 방법, 다 끝나고 정답률 높이기 위해 \n",
    "from statsmodels.stats.outliers_influence import variance_inflation_factor #회귀분석 예측 - 고려사항 체크\n",
    "import statsmodels.api as sm # train set 평가서 볼 수 있는 모듈\n",
    "from sklearn.model_selection import cross_validate # 머신러닝 - cross_validate\n",
    "from sklearn.ensemble import RandomForestClassifier\n",
    "from collections import Counter #counter 함수\n",
    "\n",
    "from scipy import stats # t-test\n",
    "from tensorflow import keras\n",
    "from konlpy.tag import Okt  #텍스트마이닝\n",
    "import operator\n",
    "import tensorflow as tf\n",
    "import matplotlib.pyplot as plt\n",
    "import matplotlib\n",
    "import numpy as np\n",
    "import pandas as pd\n",
    "import seaborn as sns\n",
    "import requests\n",
    "import oracledb\n",
    "import random\n",
    "import seaborn as sns\n",
    "import glob,os.path,re\n",
    "import seaborn as sns\n",
    "matplotlib.rcParams['axes.unicode_minus'] = False  # 마이너스 표시 해결\n",
    "# 한글설정\n",
    "matplotlib.rcParams['font.family'] = 'Malgun Gothic' # windows 사용자\n",
    "# matplotlib.rcParams['font.family'] = 'AppleGothic Gothic' # Mac사용자\n",
    "matplotlib.rcParams['font.size'] = '10' # 글자크기"
   ]
  },
  {
   "cell_type": "code",
   "execution_count": null,
   "metadata": {},
   "outputs": [],
   "source": [
    "# 머신러닝(ML) 종류\n",
    "# 1. KNN - predict\n",
    "# 2. Decision Tree\n",
    "# 3. Support Vector Machine (SVM)  - predict\n",
    "# 4. 선형회귀분석 - predict(X), 표준화작업 필요없으나 특성추가, 규제(릿지규제, 라쏘규제)가 있을 때는 필요함 \n",
    "# 5. 로지스틱회귀분석 - predict(X)\n",
    "# 6. 나이브베이지안"
   ]
  },
  {
   "cell_type": "code",
   "execution_count": 2,
   "metadata": {},
   "outputs": [],
   "source": [
    "# 시작 전 - 데이터 불러와서 describe, info로 확인 하고 문자타입을 아스키, 원핫인코딩 변경 후 상관관계\n",
    "# 1. 데이터 전처리\n",
    "# 2. 데이터 학습 시키기\n",
    "# 3. 데이터 예측하기\n",
    "# 4. 정답률 구하기"
   ]
  },
  {
   "cell_type": "code",
   "execution_count": null,
   "metadata": {},
   "outputs": [],
   "source": [
    "# train,test 세트 \n",
    "train_input,test_input,train_target,test_target = train_test_split(\n",
    "    f_input,f_target,random_state=42\n",
    ")"
   ]
  },
  {
   "cell_type": "code",
   "execution_count": null,
   "metadata": {},
   "outputs": [],
   "source": [
    "# 데이터훈련\n",
    "clf.fit(train_input,train_target)\n",
    "\n",
    "# 3. 데이터 예측하기\n",
    "result = clf.predict(test_input)\n",
    "\n",
    "# 4. 정답률 구하기\n",
    "# score = metrics.accuracy_score(test_target,result)\n",
    "score  = clf.score(test_input,test_target)\n",
    "print(\"정답률 :\", score)"
   ]
  },
  {
   "cell_type": "code",
   "execution_count": null,
   "metadata": {},
   "outputs": [],
   "source": [
    "# 표준화작업  (x,y축 규격 맞춤)\n",
    "# 데이터값 - 평균/ 표준편차를 대신함\n",
    "ss = StandardScaler()\n",
    "ss.fit(train_input)\n",
    "train_scaled = ss.transform(train_input)\n",
    "test_scaled= ss.transform(test_input)\n"
   ]
  },
  {
   "cell_type": "code",
   "execution_count": null,
   "metadata": {},
   "outputs": [],
   "source": [
    "# 교차검증(딥러닝은 불편하고 머신러닝은 함)\n",
    "score = cross_validate(dt, train_input, train_target, cv = StratifiedKFold())"
   ]
  },
  {
   "cell_type": "code",
   "execution_count": null,
   "metadata": {},
   "outputs": [],
   "source": [
    "# 딥러닝\n",
    "\n",
    "# 총 만들기\n",
    "dense = keras.layers.Dense(10,activation='softmax',input_shape = (784,))\n",
    "# 모델결정\n",
    "model = keras.Sequential([dense])\n",
    "# 모델설정\n",
    "model.compile(loss='sparse_categorical_crossentropy',metrics = ['accuracy'])\n",
    "# 모델훈련\n",
    "model.fit(train_scaled, train_target, epochs=5)\n",
    "# 모델평가\n",
    "model.evaluate(val_scaled, val_target)"
   ]
  },
  {
   "cell_type": "code",
   "execution_count": null,
   "metadata": {},
   "outputs": [],
   "source": [
    "# 3. 모델 설정부분\n",
    "# loss: 다중분류 결과값을 원핫인코딩을 사용하지 않으면 sparse_categorical_crossentropy사용\n",
    "# loss: 다중분류 결과값을 원핫인코딩을 사용하면 categorical_crossentropy\n",
    "# 이진분류 - 원핫인코딩을 사용하지 않으면: sparse_binary_crossentropy\n",
    "# 이진분류 - 원핫인코딩을 사용하면: binary_crossentropy\n",
    "# 이진분류 (도미:0, 빙어: 1)"
   ]
  },
  {
   "cell_type": "code",
   "execution_count": null,
   "metadata": {},
   "outputs": [],
   "source": [
    "(train_input, train_target),(test_input, test_target) = keras.datasets.fashion_mnist.load_data()\n",
    "train_scaled = train_input/255.0\n",
    "# 모델결정 model = keras.Sequential()\n",
    "# Flatten 추가  model.add(keras.layers.Flatten(input_shape=(28,28)))\n",
    "# Dense층 추가  model.add(keras.layers.Dense(100,activation='relu'))\n",
    "# Dropout층 추가 model.add(keras.layers.Dropout(0.3)) # 30퍼센트를 제외시키는 규제 적용\n",
    "# Dense층 추가  model.add(keras.layers.Dense(10,activation='softmax'))\n",
    "train_scaled, val_scaled, train_target, val_target = train_test_split(\n",
    "    train_scaled, train_target, test_size=0.2, random_state= 42)"
   ]
  },
  {
   "cell_type": "code",
   "execution_count": null,
   "metadata": {},
   "outputs": [],
   "source": [
    "# 머신러닝\n",
    "# 모델결정 model = keras.Sequential()\n",
    "# Flatten 추가  model.add(keras.layers.Flatten(input_shape=(28,28)))\n",
    "# Dense층 추가  model.add(keras.layers.Dense(100,activation='relu'))\n",
    "# Dense층 추가  model.add(keras.layers.Dense(10,activation='softmax'))\n",
    "# model.summary()\n",
    "# 모델설정 옵티마이저 - adam(최적화 알고리즘 찾는 것 -> 최저 손실률을 찾음)\n",
    "# model.compile(optimizer='adam',loss='sparse_categorical_crossentropy',metrics=['accuracy'])\n",
    "# 모델훈련 model.fit(train_scaled,train_target,batch_size=32,epochs=5)\n",
    "# 모델평가 model.evaluate(val_scaled,val_target)"
   ]
  },
  {
   "cell_type": "code",
   "execution_count": null,
   "metadata": {},
   "outputs": [],
   "source": [
    "# 딥러닝 훈련 - 인공신경망(ANN)\n",
    "# 모델결정 model = keras.Sequential()\n",
    "# Flatten 추가  model.add(keras.layers.Flatten(input_shape=(28,28)))\n",
    "# Dense층 추가  model.add(keras.layers.Dense(100,activation='relu'))\n",
    "# 드롭아웃추가  model.add(keras.layers.Dropout(0.3)) # 30%를 제외시키는 규제적용 (과대적합 막기위해)\n",
    "# Dense층 추가  model.add(keras.layers.Dense(10,activation='softmax'))\n",
    "# 모델설정 옵티마이저 - adam\n",
    "# model.compile(optimizer='adam',loss='sparse_categorical_crossentropy',metrics=['accuracy'])\n",
    "# 콜백모델체크포인트 checkpoint_cb = keras.callbacks.ModelCheckpoint('best_model.keras')\n",
    "# 종기종료 early_stopping_cb = keras.callbacks.EarlyStopping(patience=2,restore_best_weights=True )\n",
    "# 모델훈련 history = model.fit(train_scaled,train_target,batch_size=32,epochs=20,\n",
    "#                      validation_data=(val_scaled,val_target), callbacks=[checkpoint_cb,early_stopping_cb])\n",
    "# 모델평가 model.evaluate(val_scaled,val_target)"
   ]
  },
  {
   "cell_type": "code",
   "execution_count": 1,
   "metadata": {},
   "outputs": [],
   "source": [
    "# 딥러닝 훈련 - 인공신경망(ANN)\n",
    "\n",
    "# train_scaled = train_input.reshape(-1,28,28,1)/255 #3차원 배열(CNN 사용시)\n",
    "\n",
    "\n",
    "# 모델결정 model = keras.Sequential()\n",
    "\n",
    "# 합성곱 신경망 model.add(keras.layers.Conv2D(32,kernel_size=(3,3),activation = 'relu',padding = 'same',input_shape =(28,28,1)))\n",
    "# 최대풀링 model.add(keras.layers.MaxPooling2D(2))\n",
    "\n",
    "# 2차 합성공 신경망(CNN)\n",
    "# model.add(keras.layers.Conv2D(64, kernel_size=(3,3), activation = 'relu',padding = 'same') )\n",
    "# model.add(keras.layers.MaxPooling2D(2))\n",
    "\n",
    "# 인공신경망 훈련\n",
    "# Flatten 추가  model.add(keras.layers.Flatten())\n",
    "# Dense층 추가  model.add(keras.layers.Dense(100,activation='relu'))\n",
    "# 드롭아웃추가  model.add(keras.layers.Dropout(0.4)) # 40%를 제외시키는 규제적용 (과대적합 막기위해)\n",
    "# Dense층 추가  model.add(keras.layers.Dense(10,activation='softmax'))\n",
    "\n",
    "# 모델설정 옵티마이저 - adam\n",
    "# model.compile(optimizer='adam',loss='sparse_categorical_crossentropy',metrics=['accuracy'])\n",
    "# 콜백모델체크포인트 checkpoint_cb = keras.callbacks.ModelCheckpoint('best_model.keras')\n",
    "# 종기종료 early_stopping_cb = keras.callbacks.EarlyStopping(patience=2,restore_best_weights=True )\n",
    "# 모델훈련 history = model.fit(train_scaled,train_target,batch_size=32,epochs=20,\n",
    "#                      validation_data=(val_scaled,val_target), callbacks=[checkpoint_cb,early_stopping_cb])\n",
    "# 모델평가 model.evaluate(val_scaled,val_target)\n",
    "\n",
    "# # test세트 검증 - 3차원행렬로 변경해서 test 진행해야 됨\n",
    "# test_scaled= test_input.reshape(-1,28,28,1)/255\n",
    "# # test세트 정확도\n",
    "# model.evaluate(test_scaled, test_target)"
   ]
  }
 ],
 "metadata": {
  "kernelspec": {
   "display_name": "Python 3",
   "language": "python",
   "name": "python3"
  },
  "language_info": {
   "codemirror_mode": {
    "name": "ipython",
    "version": 3
   },
   "file_extension": ".py",
   "mimetype": "text/x-python",
   "name": "python",
   "nbconvert_exporter": "python",
   "pygments_lexer": "ipython3",
   "version": "3.12.3"
  }
 },
 "nbformat": 4,
 "nbformat_minor": 2
}
