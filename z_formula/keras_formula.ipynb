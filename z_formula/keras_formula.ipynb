{
 "cells": [
  {
   "cell_type": "code",
   "execution_count": null,
   "metadata": {},
   "outputs": [],
   "source": [
    "from tensorflow import keras\n",
    "\n",
    "(train_input, train_target),(test_input,test_target) = keras.datasets.fashion_mnist.load_data()\n",
    "\n",
    "print(train_input.shape, train_target.shape)"
   ]
  },
  {
   "cell_type": "code",
   "execution_count": null,
   "metadata": {},
   "outputs": [],
   "source": [
    "# 데이터 이진분류로 안되어 있을 때\n",
    "import pandas as pd\n",
    "df_target = pd.DataFrame(train_target)\n",
    "df_target.value_counts()"
   ]
  },
  {
   "cell_type": "code",
   "execution_count": null,
   "metadata": {},
   "outputs": [],
   "source": [
    "# 안에 있는 데이터를 0-1의 값으로 변경\n",
    "train_scaled = train_input/255\n",
    "train_scaled[0]\n",
    "\n",
    "train_scaled = train_scaled.reshape(-1,28*28)\n",
    "train_scaled[0]"
   ]
  },
  {
   "cell_type": "code",
   "execution_count": null,
   "metadata": {},
   "outputs": [],
   "source": [
    "# 훈련세트 - 전처리\n",
    "train_scaled = train_input/255\n",
    "train_scaled = train_scaled.reshape(-1,28*28)"
   ]
  },
  {
   "cell_type": "code",
   "execution_count": null,
   "metadata": {},
   "outputs": [],
   "source": [
    "# 테스트세트 - 전처리\n",
    "test_scaled = test_input/255\n",
    "test_scaled = test_scaled.reshape(-1,28*28)"
   ]
  },
  {
   "cell_type": "code",
   "execution_count": null,
   "metadata": {},
   "outputs": [],
   "source": [
    "train_scaled, val_scaled, train_target, val_target = train_test_split(\n",
    "    train_scaled, train_target, test_size=0.2, random_state= 42\n",
    ")"
   ]
  },
  {
   "cell_type": "code",
   "execution_count": null,
   "metadata": {},
   "outputs": [],
   "source": [
    "print(train_scaled.shape, train_target.shape)\n",
    "print(val_scaled.shape, val_target.shape)"
   ]
  },
  {
   "cell_type": "code",
   "execution_count": null,
   "metadata": {},
   "outputs": [],
   "source": [
    "np.unique(train_target)"
   ]
  },
  {
   "cell_type": "code",
   "execution_count": null,
   "metadata": {},
   "outputs": [],
   "source": [
    "# 딥러닝 훈련\n",
    "\n",
    "# 1. densse층\n",
    "\n",
    "# 결과 클래스\n",
    "# 10: target 클래스\n",
    "# activation='softmax': 활성화 함수\n",
    "# input_shape: 입력된 데이터 사이즈 \n",
    "dense = keras.layers.Dense(10,activation='softmax',input_shape = (784,))"
   ]
  },
  {
   "cell_type": "code",
   "execution_count": null,
   "metadata": {},
   "outputs": [],
   "source": [
    "np.unique(train_target)"
   ]
  },
  {
   "cell_type": "code",
   "execution_count": null,
   "metadata": {},
   "outputs": [],
   "source": [
    "# 2. 모델결정\n",
    "model = keras.Sequential([dense])\n",
    "# 3. 모델 설정부분\n",
    "# loss: 다중분류 결과값을 원핫인코딩을 사용하지 않으면 sparse_categorical_crossentropy사용\n",
    "# loss: 다중분류 결과값을 원핫인코딩을 사용하면 categorical_crossentropy\n",
    "# 이진분류 - 원핫인코딩을 사용하지 않으면: sparse_binary_crossentropy\n",
    "# 이진분류 - 원핫인코딩을 사용하면: binary_crossentropy\n",
    "# 이진분류 (도미:0, 빙어: 1)\n",
    "model.compile(loss='sparse_categorical_crossentropy',metrics = ['accuracy'])"
   ]
  },
  {
   "cell_type": "code",
   "execution_count": null,
   "metadata": {},
   "outputs": [],
   "source": [
    "# 4. 모델 훈련\n",
    "# epochs 반복 횟수\n",
    "model.fit(train_scaled, train_target, epochs=5)"
   ]
  },
  {
   "cell_type": "code",
   "execution_count": null,
   "metadata": {},
   "outputs": [],
   "source": [
    "# 5. 모델 평가\n",
    "\n",
    "model.evaluate(val_scaled, val_target)"
   ]
  },
  {
   "cell_type": "code",
   "execution_count": null,
   "metadata": {},
   "outputs": [],
   "source": [
    "# 변경 후 최종\n",
    "# 모델결정 model = keras.Sequential()\n",
    "# Flatten 추가  model.add(keras.layers.Flatten(input_shape=(28,28)))\n",
    "# Dense층 추가  model.add(keras.layers.Dense(100,activation='relu'))\n",
    "# Dense층 추가  model.add(keras.layers.Dense(10,activation='softmax'))\n",
    "\n",
    "# 모델설정 옵티마이저 - adam\n",
    "# model.compile(optimizer='adam', loss='sparse_categorical_crossentropy',metrics=['accuracy'])\n",
    "# 모델설정 model.compile(loss='sparse_categorical_crossentropy',metrics=['accuracy'])\n",
    "# 모델훈련 model.fit(train_scaled,train_target,batch_size=32,epochs=5)\n",
    "# 모델평가 model.evaluate(val_scaled,val_target)\n"
   ]
  }
 ],
 "metadata": {
  "language_info": {
   "name": "python"
  }
 },
 "nbformat": 4,
 "nbformat_minor": 2
}
